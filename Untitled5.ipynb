{
  "nbformat": 4,
  "nbformat_minor": 0,
  "metadata": {
    "colab": {
      "provenance": [],
      "authorship_tag": "ABX9TyPUfUZtgfZH5Svq/Mlpqq51",
      "include_colab_link": true
    },
    "kernelspec": {
      "name": "python3",
      "display_name": "Python 3"
    },
    "language_info": {
      "name": "python"
    }
  },
  "cells": [
    {
      "cell_type": "markdown",
      "metadata": {
        "id": "view-in-github",
        "colab_type": "text"
      },
      "source": [
        "<a href=\"https://colab.research.google.com/github/keshav123333/NeuralNetworkMicrograd/blob/main/Untitled5.ipynb\" target=\"_parent\"><img src=\"https://colab.research.google.com/assets/colab-badge.svg\" alt=\"Open In Colab\"/></a>"
      ]
    },
    {
      "cell_type": "code",
      "execution_count": null,
      "metadata": {
        "id": "MMMGZq0bDLgw"
      },
      "outputs": [],
      "source": [
        "import tensorflow as tf"
      ]
    },
    {
      "cell_type": "code",
      "source": [
        "import numpy as np"
      ],
      "metadata": {
        "id": "qe8YYMLvDdqq"
      },
      "execution_count": null,
      "outputs": []
    },
    {
      "cell_type": "code",
      "source": [
        "tf.random.set_seed(1)\n",
        "t1=tf.random.normal([3,3],mean=0,stddev=1,dtype=tf.float32)"
      ],
      "metadata": {
        "id": "fiLqkPtbHoKQ"
      },
      "execution_count": null,
      "outputs": []
    },
    {
      "cell_type": "code",
      "source": [
        "t1=tf.random.uniform([5,5],minval=2,maxval=1000,dtype=tf.float32)"
      ],
      "metadata": {
        "id": "PcOkjRKJP6nC"
      },
      "execution_count": null,
      "outputs": []
    },
    {
      "cell_type": "code",
      "source": [
        "t1=tf.constant([[9,2,3,4],[2,3,4,5],[20,3,4,5]])\n",
        "print(t1)"
      ],
      "metadata": {
        "colab": {
          "base_uri": "https://localhost:8080/"
        },
        "id": "DSBuWh7KV5pT",
        "outputId": "ecbbc5a4-8d93-4d1c-fad8-1eca0fafa81e"
      },
      "execution_count": null,
      "outputs": [
        {
          "output_type": "stream",
          "name": "stdout",
          "text": [
            "tf.Tensor(\n",
            "[[ 9  2  3  4]\n",
            " [ 2  3  4  5]\n",
            " [20  3  4  5]], shape=(3, 4), dtype=int32)\n"
          ]
        }
      ]
    },
    {
      "cell_type": "markdown",
      "source": [
        "yaha pe axis 1 so col wise sum sari col ka sum hoga\n",
        "if axis 0 so row wise sum saari rowise hoga sum"
      ],
      "metadata": {
        "id": "qAOAL1RkJcR2"
      }
    },
    {
      "cell_type": "code",
      "source": [
        "tf.math.reduce_sum(t1,axis=1)"
      ],
      "metadata": {
        "colab": {
          "base_uri": "https://localhost:8080/"
        },
        "id": "7oZOu7uVI2J6",
        "outputId": "3f23f627-739c-45eb-9a33-af983bb82fe4"
      },
      "execution_count": null,
      "outputs": [
        {
          "output_type": "execute_result",
          "data": {
            "text/plain": [
              "<tf.Tensor: shape=(3,), dtype=int32, numpy=array([18, 14, 32], dtype=int32)>"
            ]
          },
          "metadata": {},
          "execution_count": 107
        }
      ]
    },
    {
      "cell_type": "code",
      "source": [
        "tf.random.uniform([3,2,4],minval=2,maxval=12)"
      ],
      "metadata": {
        "colab": {
          "base_uri": "https://localhost:8080/"
        },
        "id": "VEhZHoRJLqGZ",
        "outputId": "f8369542-c1cc-46ef-b72e-814d3702bfb8"
      },
      "execution_count": null,
      "outputs": [
        {
          "output_type": "execute_result",
          "data": {
            "text/plain": [
              "<tf.Tensor: shape=(3, 2, 4), dtype=float32, numpy=\n",
              "array([[[10.292774 ,  8.342279 ,  7.147276 ,  5.9108086],\n",
              "        [ 7.809028 ,  2.4848182,  3.776321 ,  9.047016 ]],\n",
              "\n",
              "       [[ 6.9190845,  5.4604254,  7.0791073,  4.216742 ],\n",
              "        [10.485558 , 11.440879 ,  7.2639236,  5.821411 ]],\n",
              "\n",
              "       [[ 4.798195 ,  2.337733 ,  6.319066 ,  2.9417534],\n",
              "        [11.651522 ,  9.569637 ,  8.727526 ,  7.3392115]]], dtype=float32)>"
            ]
          },
          "metadata": {},
          "execution_count": 108
        }
      ]
    },
    {
      "cell_type": "code",
      "source": [
        "y=np.random.randint(4,10,size=(2,3,4))\n",
        "y1=np.random.randint(4,10,size=(2,4,9))"
      ],
      "metadata": {
        "id": "DP6M1CKlWXNL"
      },
      "execution_count": null,
      "outputs": []
    },
    {
      "cell_type": "code",
      "source": [
        "np.einsum(\"ijk,ikm->ijm\",y,y1)"
      ],
      "metadata": {
        "colab": {
          "base_uri": "https://localhost:8080/"
        },
        "id": "D8cl_IIhW683",
        "outputId": "6dbf634b-4f47-467e-f37a-e71308fb14e3"
      },
      "execution_count": null,
      "outputs": [
        {
          "output_type": "execute_result",
          "data": {
            "text/plain": [
              "array([[[207, 214, 171, 126, 185, 181, 165, 195, 170],\n",
              "        [180, 190, 159, 114, 161, 166, 147, 177, 152],\n",
              "        [173, 179, 145, 115, 160, 153, 149, 171, 145]],\n",
              "\n",
              "       [[146, 153, 146, 172, 169, 167, 162, 177, 184],\n",
              "        [172, 178, 174, 196, 204, 176, 192, 182, 208],\n",
              "        [193, 199, 194, 219, 230, 196, 214, 202, 232]]])"
            ]
          },
          "metadata": {},
          "execution_count": 110
        }
      ]
    },
    {
      "cell_type": "code",
      "source": [
        "np.matmul(y,y1)"
      ],
      "metadata": {
        "colab": {
          "base_uri": "https://localhost:8080/"
        },
        "id": "RSQBjFpnXOW9",
        "outputId": "dd88826a-0395-400a-e319-aac8b64ac3aa"
      },
      "execution_count": null,
      "outputs": [
        {
          "output_type": "execute_result",
          "data": {
            "text/plain": [
              "array([[[207, 214, 171, 126, 185, 181, 165, 195, 170],\n",
              "        [180, 190, 159, 114, 161, 166, 147, 177, 152],\n",
              "        [173, 179, 145, 115, 160, 153, 149, 171, 145]],\n",
              "\n",
              "       [[146, 153, 146, 172, 169, 167, 162, 177, 184],\n",
              "        [172, 178, 174, 196, 204, 176, 192, 182, 208],\n",
              "        [193, 199, 194, 219, 230, 196, 214, 202, 232]]])"
            ]
          },
          "metadata": {},
          "execution_count": 111
        }
      ]
    },
    {
      "cell_type": "code",
      "source": [
        "import math"
      ],
      "metadata": {
        "id": "NBtb-if0-gZd"
      },
      "execution_count": null,
      "outputs": []
    },
    {
      "cell_type": "code",
      "source": [
        "class Value:\n",
        "  def __init__(self,data,_children=(),_op='',label=\"\"):\n",
        "    self.data=data\n",
        "    self._prev=set(_children)\n",
        "    self._backward=lambda:None\n",
        "    self._op=_op\n",
        "    self.grad=0.0\n",
        "    self.label=label\n",
        "\n",
        "  def __repr__(self):\n",
        "    return f\"{self.data}\"\n",
        "\n",
        "  def __add__(self,other):\n",
        "    other = other if isinstance(other, Value) else Value(other)\n",
        "    out=Value( self.data+other.data,( self,other),'+')\n",
        "    def _backward():\n",
        "      self.grad+=1.0*out.grad\n",
        "      other.grad+=1.0*out.grad\n",
        "    out._backward=_backward\n",
        "    return out\n",
        "\n",
        "  def __mul__(self,other):\n",
        "    other = other if isinstance(other, Value) else Value(other)\n",
        "    out=Value(self.data*other.data,(self,other),'*')\n",
        "    def _backward():\n",
        "      self.grad+=other.data*out.grad\n",
        "      other.grad+=self.data*out.grad\n",
        "    out._backward=_backward\n",
        "    return out\n",
        "\n",
        "\n",
        "\n",
        "  def __pow__(self, other):\n",
        "    assert isinstance(other, (int, float)), \"  supporting int/float powers for now\"\n",
        "    out = Value(self.data**other, (self,), f'**{other}')\n",
        "\n",
        "    def _backward():\n",
        "        self.grad += other * (self.data ** (other - 1)) * out.grad\n",
        "    out._backward = _backward\n",
        "\n",
        "    return out\n",
        "\n",
        "  def __rmul__(self, other):\n",
        "    return self * other\n",
        "\n",
        "  def __truediv__(self, other):\n",
        "    return self * other**-1\n",
        "\n",
        "  def __neg__(self):\n",
        "    return self * -1\n",
        "\n",
        "  def __sub__(self, other):\n",
        "    return self + (-other)\n",
        "\n",
        "  def __radd__(self, other):\n",
        "    return self + other\n",
        "\n",
        "  def tanh(self):\n",
        "    x=self.data\n",
        "    t=(math.exp(2*x)-1)/(math.exp(2*x)+1)\n",
        "    out=Value(t,(self,),\"sigmoid\")\n",
        "    def _backward():\n",
        "      self.grad+=(1-t**2)*out.grad\n",
        "    out._backward=_backward\n",
        "    return out\n",
        "\n",
        "  def backward(self):\n",
        "    topo=[]\n",
        "    visited=set()\n",
        "    def build_topo(v):\n",
        "      if v not in visited:\n",
        "        visited.add(v)\n",
        "        for child in v._prev:\n",
        "          build_topo(child)\n",
        "        topo.append(v)\n",
        "\n",
        "    build_topo(self)\n",
        "\n",
        "    self.grad=1.0\n",
        "    for  node in reversed(topo):\n",
        "      node._backward()\n",
        "\n"
      ],
      "metadata": {
        "id": "dni7GK3tYMj-"
      },
      "execution_count": null,
      "outputs": []
    },
    {
      "cell_type": "code",
      "source": [
        "from graphviz import Digraph\n",
        "\n",
        "def trace(root):\n",
        "  # builds a set of all nodes and edges in a graph\n",
        "  nodes, edges = set(), set()\n",
        "  def build(v):\n",
        "    if v not in nodes:\n",
        "      nodes.add(v)\n",
        "      for child in v._prev:\n",
        "        edges.add((child, v))\n",
        "        build(child)\n",
        "  build(root)\n",
        "  return nodes, edges\n",
        "\n",
        "def draw_dot(root):\n",
        "  dot = Digraph(format='svg', graph_attr={'rankdir': 'LR'}) # LR = left to right\n",
        "\n",
        "  nodes, edges = trace(root)\n",
        "  for n in nodes:\n",
        "    uid = str(id(n))\n",
        "    # for any value in the graph, create a rectangular ('record') node for it\n",
        "    dot.node(name = uid, label = \"{ %s | data %.4f | grad %.4f }\" % (n.label, n.data, n.grad), shape='record')\n",
        "    if n._op:\n",
        "      # if this value is a result of some operation, create an op node for it\n",
        "      dot.node(name = uid + n._op, label = n._op)\n",
        "      # and connect this node to it\n",
        "      dot.edge(uid + n._op, uid)\n",
        "\n",
        "  for n1, n2 in edges:\n",
        "    # connect n1 to the op node of n2\n",
        "    dot.edge(str(id(n1)), str(id(n2)) + n2._op)\n",
        "\n",
        "  return dot"
      ],
      "metadata": {
        "id": "RBdLch4F-uj2"
      },
      "execution_count": null,
      "outputs": []
    },
    {
      "cell_type": "code",
      "source": [
        "x1=Value(2.0,label=\"x1\")\n",
        "x2=Value(0.0,label=\"x2\")\n",
        "\n",
        "w1=Value(-3.0,label=\"w1\")\n",
        "w2=Value(1.0,label=\"w2\")\n",
        "\n",
        "b=Value(6.8813735870195432,label=\"b\")\n",
        "\n",
        "n=w1*x1+w2*x2+b\n",
        "n.label=\"n\"\n",
        "o=n.tanh()\n",
        "o.label=\"o\"\n",
        "draw_dot(o)"
      ],
      "metadata": {
        "id": "O2ZD6cXTYWLY",
        "colab": {
          "base_uri": "https://localhost:8080/",
          "height": 321
        },
        "outputId": "f6fe5b57-85df-47c5-c284-20bd4f053f17"
      },
      "execution_count": null,
      "outputs": [
        {
          "output_type": "execute_result",
          "data": {
            "image/svg+xml": "<?xml version=\"1.0\" encoding=\"UTF-8\" standalone=\"no\"?>\n<!DOCTYPE svg PUBLIC \"-//W3C//DTD SVG 1.1//EN\"\n \"http://www.w3.org/Graphics/SVG/1.1/DTD/svg11.dtd\">\n<!-- Generated by graphviz version 2.43.0 (0)\n -->\n<!-- Title: %3 Pages: 1 -->\n<svg width=\"1481pt\" height=\"210pt\"\n viewBox=\"0.00 0.00 1481.29 210.00\" xmlns=\"http://www.w3.org/2000/svg\" xmlns:xlink=\"http://www.w3.org/1999/xlink\">\n<g id=\"graph0\" class=\"graph\" transform=\"scale(1 1) rotate(0) translate(4 206)\">\n<title>%3</title>\n<polygon fill=\"white\" stroke=\"transparent\" points=\"-4,4 -4,-206 1477.29,-206 1477.29,4 -4,4\"/>\n<!-- 136597738751504 -->\n<g id=\"node1\" class=\"node\">\n<title>136597738751504</title>\n<polygon fill=\"none\" stroke=\"black\" points=\"2.5,-165.5 2.5,-201.5 197.5,-201.5 197.5,-165.5 2.5,-165.5\"/>\n<text text-anchor=\"middle\" x=\"19\" y=\"-179.8\" font-family=\"Times,serif\" font-size=\"14.00\">w2</text>\n<polyline fill=\"none\" stroke=\"black\" points=\"35.5,-165.5 35.5,-201.5 \"/>\n<text text-anchor=\"middle\" x=\"75.5\" y=\"-179.8\" font-family=\"Times,serif\" font-size=\"14.00\">data 1.0000</text>\n<polyline fill=\"none\" stroke=\"black\" points=\"115.5,-165.5 115.5,-201.5 \"/>\n<text text-anchor=\"middle\" x=\"156.5\" y=\"-179.8\" font-family=\"Times,serif\" font-size=\"14.00\">grad 0.0000</text>\n</g>\n<!-- 136597682144848* -->\n<g id=\"node3\" class=\"node\">\n<title>136597682144848*</title>\n<ellipse fill=\"none\" stroke=\"black\" cx=\"263\" cy=\"-128.5\" rx=\"27\" ry=\"18\"/>\n<text text-anchor=\"middle\" x=\"263\" y=\"-124.8\" font-family=\"Times,serif\" font-size=\"14.00\">*</text>\n</g>\n<!-- 136597738751504&#45;&gt;136597682144848* -->\n<g id=\"edge13\" class=\"edge\">\n<title>136597738751504&#45;&gt;136597682144848*</title>\n<path fill=\"none\" stroke=\"black\" d=\"M172.53,-165.44C181.84,-162.67 191.2,-159.67 200,-156.5 210.53,-152.71 221.75,-147.9 231.72,-143.33\"/>\n<polygon fill=\"black\" stroke=\"black\" points=\"233.25,-146.48 240.82,-139.07 230.28,-140.14 233.25,-146.48\"/>\n</g>\n<!-- 136597682144848 -->\n<g id=\"node2\" class=\"node\">\n<title>136597682144848</title>\n<polygon fill=\"none\" stroke=\"black\" points=\"328.5,-110.5 328.5,-146.5 510.5,-146.5 510.5,-110.5 328.5,-110.5\"/>\n<text text-anchor=\"middle\" x=\"338.5\" y=\"-124.8\" font-family=\"Times,serif\" font-size=\"14.00\"> </text>\n<polyline fill=\"none\" stroke=\"black\" points=\"348.5,-110.5 348.5,-146.5 \"/>\n<text text-anchor=\"middle\" x=\"388.5\" y=\"-124.8\" font-family=\"Times,serif\" font-size=\"14.00\">data 0.0000</text>\n<polyline fill=\"none\" stroke=\"black\" points=\"428.5,-110.5 428.5,-146.5 \"/>\n<text text-anchor=\"middle\" x=\"469.5\" y=\"-124.8\" font-family=\"Times,serif\" font-size=\"14.00\">grad 0.0000</text>\n</g>\n<!-- 136597682158736+ -->\n<g id=\"node7\" class=\"node\">\n<title>136597682158736+</title>\n<ellipse fill=\"none\" stroke=\"black\" cx=\"576\" cy=\"-100.5\" rx=\"27\" ry=\"18\"/>\n<text text-anchor=\"middle\" x=\"576\" y=\"-96.8\" font-family=\"Times,serif\" font-size=\"14.00\">+</text>\n</g>\n<!-- 136597682144848&#45;&gt;136597682158736+ -->\n<g id=\"edge10\" class=\"edge\">\n<title>136597682144848&#45;&gt;136597682158736+</title>\n<path fill=\"none\" stroke=\"black\" d=\"M510.82,-112.13C521.07,-110.27 531.01,-108.47 539.88,-106.87\"/>\n<polygon fill=\"black\" stroke=\"black\" points=\"540.54,-110.3 549.75,-105.08 539.29,-103.42 540.54,-110.3\"/>\n</g>\n<!-- 136597682144848*&#45;&gt;136597682144848 -->\n<g id=\"edge1\" class=\"edge\">\n<title>136597682144848*&#45;&gt;136597682144848</title>\n<path fill=\"none\" stroke=\"black\" d=\"M290.21,-128.5C298.34,-128.5 307.85,-128.5 317.94,-128.5\"/>\n<polygon fill=\"black\" stroke=\"black\" points=\"318.19,-132 328.19,-128.5 318.19,-125 318.19,-132\"/>\n</g>\n<!-- 136597682158160 -->\n<g id=\"node4\" class=\"node\">\n<title>136597682158160</title>\n<polygon fill=\"none\" stroke=\"black\" points=\"326,-55.5 326,-91.5 513,-91.5 513,-55.5 326,-55.5\"/>\n<text text-anchor=\"middle\" x=\"336\" y=\"-69.8\" font-family=\"Times,serif\" font-size=\"14.00\"> </text>\n<polyline fill=\"none\" stroke=\"black\" points=\"346,-55.5 346,-91.5 \"/>\n<text text-anchor=\"middle\" x=\"388.5\" y=\"-69.8\" font-family=\"Times,serif\" font-size=\"14.00\">data &#45;6.0000</text>\n<polyline fill=\"none\" stroke=\"black\" points=\"431,-55.5 431,-91.5 \"/>\n<text text-anchor=\"middle\" x=\"472\" y=\"-69.8\" font-family=\"Times,serif\" font-size=\"14.00\">grad 0.0000</text>\n</g>\n<!-- 136597682158160&#45;&gt;136597682158736+ -->\n<g id=\"edge11\" class=\"edge\">\n<title>136597682158160&#45;&gt;136597682158736+</title>\n<path fill=\"none\" stroke=\"black\" d=\"M513.05,-89.67C522.34,-91.3 531.33,-92.87 539.44,-94.29\"/>\n<polygon fill=\"black\" stroke=\"black\" points=\"539.1,-97.78 549.55,-96.05 540.3,-90.88 539.1,-97.78\"/>\n</g>\n<!-- 136597682158160* -->\n<g id=\"node5\" class=\"node\">\n<title>136597682158160*</title>\n<ellipse fill=\"none\" stroke=\"black\" cx=\"263\" cy=\"-73.5\" rx=\"27\" ry=\"18\"/>\n<text text-anchor=\"middle\" x=\"263\" y=\"-69.8\" font-family=\"Times,serif\" font-size=\"14.00\">*</text>\n</g>\n<!-- 136597682158160*&#45;&gt;136597682158160 -->\n<g id=\"edge2\" class=\"edge\">\n<title>136597682158160*&#45;&gt;136597682158160</title>\n<path fill=\"none\" stroke=\"black\" d=\"M290.21,-73.5C297.73,-73.5 306.43,-73.5 315.67,-73.5\"/>\n<polygon fill=\"black\" stroke=\"black\" points=\"315.89,-77 325.89,-73.5 315.89,-70 315.89,-77\"/>\n</g>\n<!-- 136597682158736 -->\n<g id=\"node6\" class=\"node\">\n<title>136597682158736</title>\n<polygon fill=\"none\" stroke=\"black\" points=\"639,-82.5 639,-118.5 826,-118.5 826,-82.5 639,-82.5\"/>\n<text text-anchor=\"middle\" x=\"649\" y=\"-96.8\" font-family=\"Times,serif\" font-size=\"14.00\"> </text>\n<polyline fill=\"none\" stroke=\"black\" points=\"659,-82.5 659,-118.5 \"/>\n<text text-anchor=\"middle\" x=\"701.5\" y=\"-96.8\" font-family=\"Times,serif\" font-size=\"14.00\">data &#45;6.0000</text>\n<polyline fill=\"none\" stroke=\"black\" points=\"744,-82.5 744,-118.5 \"/>\n<text text-anchor=\"middle\" x=\"785\" y=\"-96.8\" font-family=\"Times,serif\" font-size=\"14.00\">grad 0.0000</text>\n</g>\n<!-- 136597682143888+ -->\n<g id=\"node9\" class=\"node\">\n<title>136597682143888+</title>\n<ellipse fill=\"none\" stroke=\"black\" cx=\"889\" cy=\"-72.5\" rx=\"27\" ry=\"18\"/>\n<text text-anchor=\"middle\" x=\"889\" y=\"-68.8\" font-family=\"Times,serif\" font-size=\"14.00\">+</text>\n</g>\n<!-- 136597682158736&#45;&gt;136597682143888+ -->\n<g id=\"edge6\" class=\"edge\">\n<title>136597682158736&#45;&gt;136597682143888+</title>\n<path fill=\"none\" stroke=\"black\" d=\"M826.05,-83.73C835.54,-82.01 844.71,-80.35 852.95,-78.85\"/>\n<polygon fill=\"black\" stroke=\"black\" points=\"853.64,-82.28 862.85,-77.06 852.39,-75.4 853.64,-82.28\"/>\n</g>\n<!-- 136597682158736+&#45;&gt;136597682158736 -->\n<g id=\"edge3\" class=\"edge\">\n<title>136597682158736+&#45;&gt;136597682158736</title>\n<path fill=\"none\" stroke=\"black\" d=\"M603.21,-100.5C610.73,-100.5 619.43,-100.5 628.67,-100.5\"/>\n<polygon fill=\"black\" stroke=\"black\" points=\"628.89,-104 638.89,-100.5 628.89,-97 628.89,-104\"/>\n</g>\n<!-- 136597682143888 -->\n<g id=\"node8\" class=\"node\">\n<title>136597682143888</title>\n<polygon fill=\"none\" stroke=\"black\" points=\"952,-54.5 952,-90.5 1137,-90.5 1137,-54.5 952,-54.5\"/>\n<text text-anchor=\"middle\" x=\"963.5\" y=\"-68.8\" font-family=\"Times,serif\" font-size=\"14.00\">n</text>\n<polyline fill=\"none\" stroke=\"black\" points=\"975,-54.5 975,-90.5 \"/>\n<text text-anchor=\"middle\" x=\"1015\" y=\"-68.8\" font-family=\"Times,serif\" font-size=\"14.00\">data 0.8814</text>\n<polyline fill=\"none\" stroke=\"black\" points=\"1055,-54.5 1055,-90.5 \"/>\n<text text-anchor=\"middle\" x=\"1096\" y=\"-68.8\" font-family=\"Times,serif\" font-size=\"14.00\">grad 0.0000</text>\n</g>\n<!-- 136597682157328sigmoid -->\n<g id=\"node14\" class=\"node\">\n<title>136597682157328sigmoid</title>\n<ellipse fill=\"none\" stroke=\"black\" cx=\"1212.65\" cy=\"-72.5\" rx=\"39.79\" ry=\"18\"/>\n<text text-anchor=\"middle\" x=\"1212.65\" y=\"-68.8\" font-family=\"Times,serif\" font-size=\"14.00\">sigmoid</text>\n</g>\n<!-- 136597682143888&#45;&gt;136597682157328sigmoid -->\n<g id=\"edge14\" class=\"edge\">\n<title>136597682143888&#45;&gt;136597682157328sigmoid</title>\n<path fill=\"none\" stroke=\"black\" d=\"M1137.32,-72.5C1145.98,-72.5 1154.52,-72.5 1162.54,-72.5\"/>\n<polygon fill=\"black\" stroke=\"black\" points=\"1162.76,-76 1172.76,-72.5 1162.76,-69 1162.76,-76\"/>\n</g>\n<!-- 136597682143888+&#45;&gt;136597682143888 -->\n<g id=\"edge4\" class=\"edge\">\n<title>136597682143888+&#45;&gt;136597682143888</title>\n<path fill=\"none\" stroke=\"black\" d=\"M916.04,-72.5C923.58,-72.5 932.3,-72.5 941.57,-72.5\"/>\n<polygon fill=\"black\" stroke=\"black\" points=\"941.81,-76 951.81,-72.5 941.81,-69 941.81,-76\"/>\n</g>\n<!-- 136597683378832 -->\n<g id=\"node10\" class=\"node\">\n<title>136597683378832</title>\n<polygon fill=\"none\" stroke=\"black\" points=\"4,-110.5 4,-146.5 196,-146.5 196,-110.5 4,-110.5\"/>\n<text text-anchor=\"middle\" x=\"19\" y=\"-124.8\" font-family=\"Times,serif\" font-size=\"14.00\">x2</text>\n<polyline fill=\"none\" stroke=\"black\" points=\"34,-110.5 34,-146.5 \"/>\n<text text-anchor=\"middle\" x=\"74\" y=\"-124.8\" font-family=\"Times,serif\" font-size=\"14.00\">data 0.0000</text>\n<polyline fill=\"none\" stroke=\"black\" points=\"114,-110.5 114,-146.5 \"/>\n<text text-anchor=\"middle\" x=\"155\" y=\"-124.8\" font-family=\"Times,serif\" font-size=\"14.00\">grad 0.0000</text>\n</g>\n<!-- 136597683378832&#45;&gt;136597682144848* -->\n<g id=\"edge7\" class=\"edge\">\n<title>136597683378832&#45;&gt;136597682144848*</title>\n<path fill=\"none\" stroke=\"black\" d=\"M196.05,-128.5C206.52,-128.5 216.65,-128.5 225.71,-128.5\"/>\n<polygon fill=\"black\" stroke=\"black\" points=\"225.79,-132 235.79,-128.5 225.79,-125 225.79,-132\"/>\n</g>\n<!-- 136597683372176 -->\n<g id=\"node11\" class=\"node\">\n<title>136597683372176</title>\n<polygon fill=\"none\" stroke=\"black\" points=\"4,-55.5 4,-91.5 196,-91.5 196,-55.5 4,-55.5\"/>\n<text text-anchor=\"middle\" x=\"19\" y=\"-69.8\" font-family=\"Times,serif\" font-size=\"14.00\">x1</text>\n<polyline fill=\"none\" stroke=\"black\" points=\"34,-55.5 34,-91.5 \"/>\n<text text-anchor=\"middle\" x=\"74\" y=\"-69.8\" font-family=\"Times,serif\" font-size=\"14.00\">data 2.0000</text>\n<polyline fill=\"none\" stroke=\"black\" points=\"114,-55.5 114,-91.5 \"/>\n<text text-anchor=\"middle\" x=\"155\" y=\"-69.8\" font-family=\"Times,serif\" font-size=\"14.00\">grad 0.0000</text>\n</g>\n<!-- 136597683372176&#45;&gt;136597682158160* -->\n<g id=\"edge12\" class=\"edge\">\n<title>136597683372176&#45;&gt;136597682158160*</title>\n<path fill=\"none\" stroke=\"black\" d=\"M196.05,-73.5C206.52,-73.5 216.65,-73.5 225.71,-73.5\"/>\n<polygon fill=\"black\" stroke=\"black\" points=\"225.79,-77 235.79,-73.5 225.79,-70 225.79,-77\"/>\n</g>\n<!-- 136597738759440 -->\n<g id=\"node12\" class=\"node\">\n<title>136597738759440</title>\n<polygon fill=\"none\" stroke=\"black\" points=\"640,-27.5 640,-63.5 825,-63.5 825,-27.5 640,-27.5\"/>\n<text text-anchor=\"middle\" x=\"651.5\" y=\"-41.8\" font-family=\"Times,serif\" font-size=\"14.00\">b</text>\n<polyline fill=\"none\" stroke=\"black\" points=\"663,-27.5 663,-63.5 \"/>\n<text text-anchor=\"middle\" x=\"703\" y=\"-41.8\" font-family=\"Times,serif\" font-size=\"14.00\">data 6.8814</text>\n<polyline fill=\"none\" stroke=\"black\" points=\"743,-27.5 743,-63.5 \"/>\n<text text-anchor=\"middle\" x=\"784\" y=\"-41.8\" font-family=\"Times,serif\" font-size=\"14.00\">grad 0.0000</text>\n</g>\n<!-- 136597738759440&#45;&gt;136597682143888+ -->\n<g id=\"edge8\" class=\"edge\">\n<title>136597738759440&#45;&gt;136597682143888+</title>\n<path fill=\"none\" stroke=\"black\" d=\"M825.16,-61.52C834.84,-63.21 844.22,-64.85 852.64,-66.32\"/>\n<polygon fill=\"black\" stroke=\"black\" points=\"852.29,-69.81 862.75,-68.09 853.5,-62.92 852.29,-69.81\"/>\n</g>\n<!-- 136597682157328 -->\n<g id=\"node13\" class=\"node\">\n<title>136597682157328</title>\n<polygon fill=\"none\" stroke=\"black\" points=\"1288.29,-54.5 1288.29,-90.5 1473.29,-90.5 1473.29,-54.5 1288.29,-54.5\"/>\n<text text-anchor=\"middle\" x=\"1299.79\" y=\"-68.8\" font-family=\"Times,serif\" font-size=\"14.00\">o</text>\n<polyline fill=\"none\" stroke=\"black\" points=\"1311.29,-54.5 1311.29,-90.5 \"/>\n<text text-anchor=\"middle\" x=\"1351.29\" y=\"-68.8\" font-family=\"Times,serif\" font-size=\"14.00\">data 0.7071</text>\n<polyline fill=\"none\" stroke=\"black\" points=\"1391.29,-54.5 1391.29,-90.5 \"/>\n<text text-anchor=\"middle\" x=\"1432.29\" y=\"-68.8\" font-family=\"Times,serif\" font-size=\"14.00\">grad 0.0000</text>\n</g>\n<!-- 136597682157328sigmoid&#45;&gt;136597682157328 -->\n<g id=\"edge5\" class=\"edge\">\n<title>136597682157328sigmoid&#45;&gt;136597682157328</title>\n<path fill=\"none\" stroke=\"black\" d=\"M1252.6,-72.5C1260.48,-72.5 1269.09,-72.5 1278.02,-72.5\"/>\n<polygon fill=\"black\" stroke=\"black\" points=\"1278.2,-76 1288.2,-72.5 1278.2,-69 1278.2,-76\"/>\n</g>\n<!-- 136597683380560 -->\n<g id=\"node15\" class=\"node\">\n<title>136597683380560</title>\n<polygon fill=\"none\" stroke=\"black\" points=\"0,-0.5 0,-36.5 200,-36.5 200,-0.5 0,-0.5\"/>\n<text text-anchor=\"middle\" x=\"16.5\" y=\"-14.8\" font-family=\"Times,serif\" font-size=\"14.00\">w1</text>\n<polyline fill=\"none\" stroke=\"black\" points=\"33,-0.5 33,-36.5 \"/>\n<text text-anchor=\"middle\" x=\"75.5\" y=\"-14.8\" font-family=\"Times,serif\" font-size=\"14.00\">data &#45;3.0000</text>\n<polyline fill=\"none\" stroke=\"black\" points=\"118,-0.5 118,-36.5 \"/>\n<text text-anchor=\"middle\" x=\"159\" y=\"-14.8\" font-family=\"Times,serif\" font-size=\"14.00\">grad 0.0000</text>\n</g>\n<!-- 136597683380560&#45;&gt;136597682158160* -->\n<g id=\"edge9\" class=\"edge\">\n<title>136597683380560&#45;&gt;136597682158160*</title>\n<path fill=\"none\" stroke=\"black\" d=\"M169.28,-36.5C179.65,-39.61 190.16,-42.98 200,-46.5 210.28,-50.17 221.28,-54.74 231.11,-59.07\"/>\n<polygon fill=\"black\" stroke=\"black\" points=\"229.93,-62.37 240.48,-63.27 232.79,-55.99 229.93,-62.37\"/>\n</g>\n</g>\n</svg>\n",
            "text/plain": [
              "<graphviz.graphs.Digraph at 0x7c3c20527550>"
            ]
          },
          "metadata": {},
          "execution_count": 115
        }
      ]
    },
    {
      "cell_type": "code",
      "source": [
        "draw_dot(o)"
      ],
      "metadata": {
        "colab": {
          "base_uri": "https://localhost:8080/",
          "height": 321
        },
        "id": "GrkQLGYui8hd",
        "outputId": "55258e99-99a8-4abf-d742-9543a8ac2138"
      },
      "execution_count": null,
      "outputs": [
        {
          "output_type": "execute_result",
          "data": {
            "image/svg+xml": "<?xml version=\"1.0\" encoding=\"UTF-8\" standalone=\"no\"?>\n<!DOCTYPE svg PUBLIC \"-//W3C//DTD SVG 1.1//EN\"\n \"http://www.w3.org/Graphics/SVG/1.1/DTD/svg11.dtd\">\n<!-- Generated by graphviz version 2.43.0 (0)\n -->\n<!-- Title: %3 Pages: 1 -->\n<svg width=\"1481pt\" height=\"210pt\"\n viewBox=\"0.00 0.00 1481.29 210.00\" xmlns=\"http://www.w3.org/2000/svg\" xmlns:xlink=\"http://www.w3.org/1999/xlink\">\n<g id=\"graph0\" class=\"graph\" transform=\"scale(1 1) rotate(0) translate(4 206)\">\n<title>%3</title>\n<polygon fill=\"white\" stroke=\"transparent\" points=\"-4,4 -4,-206 1477.29,-206 1477.29,4 -4,4\"/>\n<!-- 136597738751504 -->\n<g id=\"node1\" class=\"node\">\n<title>136597738751504</title>\n<polygon fill=\"none\" stroke=\"black\" points=\"2.5,-165.5 2.5,-201.5 197.5,-201.5 197.5,-165.5 2.5,-165.5\"/>\n<text text-anchor=\"middle\" x=\"19\" y=\"-179.8\" font-family=\"Times,serif\" font-size=\"14.00\">w2</text>\n<polyline fill=\"none\" stroke=\"black\" points=\"35.5,-165.5 35.5,-201.5 \"/>\n<text text-anchor=\"middle\" x=\"75.5\" y=\"-179.8\" font-family=\"Times,serif\" font-size=\"14.00\">data 1.0000</text>\n<polyline fill=\"none\" stroke=\"black\" points=\"115.5,-165.5 115.5,-201.5 \"/>\n<text text-anchor=\"middle\" x=\"156.5\" y=\"-179.8\" font-family=\"Times,serif\" font-size=\"14.00\">grad 0.0000</text>\n</g>\n<!-- 136597682144848* -->\n<g id=\"node3\" class=\"node\">\n<title>136597682144848*</title>\n<ellipse fill=\"none\" stroke=\"black\" cx=\"263\" cy=\"-128.5\" rx=\"27\" ry=\"18\"/>\n<text text-anchor=\"middle\" x=\"263\" y=\"-124.8\" font-family=\"Times,serif\" font-size=\"14.00\">*</text>\n</g>\n<!-- 136597738751504&#45;&gt;136597682144848* -->\n<g id=\"edge13\" class=\"edge\">\n<title>136597738751504&#45;&gt;136597682144848*</title>\n<path fill=\"none\" stroke=\"black\" d=\"M172.53,-165.44C181.84,-162.67 191.2,-159.67 200,-156.5 210.53,-152.71 221.75,-147.9 231.72,-143.33\"/>\n<polygon fill=\"black\" stroke=\"black\" points=\"233.25,-146.48 240.82,-139.07 230.28,-140.14 233.25,-146.48\"/>\n</g>\n<!-- 136597682144848 -->\n<g id=\"node2\" class=\"node\">\n<title>136597682144848</title>\n<polygon fill=\"none\" stroke=\"black\" points=\"328.5,-110.5 328.5,-146.5 510.5,-146.5 510.5,-110.5 328.5,-110.5\"/>\n<text text-anchor=\"middle\" x=\"338.5\" y=\"-124.8\" font-family=\"Times,serif\" font-size=\"14.00\"> </text>\n<polyline fill=\"none\" stroke=\"black\" points=\"348.5,-110.5 348.5,-146.5 \"/>\n<text text-anchor=\"middle\" x=\"388.5\" y=\"-124.8\" font-family=\"Times,serif\" font-size=\"14.00\">data 0.0000</text>\n<polyline fill=\"none\" stroke=\"black\" points=\"428.5,-110.5 428.5,-146.5 \"/>\n<text text-anchor=\"middle\" x=\"469.5\" y=\"-124.8\" font-family=\"Times,serif\" font-size=\"14.00\">grad 0.0000</text>\n</g>\n<!-- 136597682158736+ -->\n<g id=\"node7\" class=\"node\">\n<title>136597682158736+</title>\n<ellipse fill=\"none\" stroke=\"black\" cx=\"576\" cy=\"-100.5\" rx=\"27\" ry=\"18\"/>\n<text text-anchor=\"middle\" x=\"576\" y=\"-96.8\" font-family=\"Times,serif\" font-size=\"14.00\">+</text>\n</g>\n<!-- 136597682144848&#45;&gt;136597682158736+ -->\n<g id=\"edge10\" class=\"edge\">\n<title>136597682144848&#45;&gt;136597682158736+</title>\n<path fill=\"none\" stroke=\"black\" d=\"M510.82,-112.13C521.07,-110.27 531.01,-108.47 539.88,-106.87\"/>\n<polygon fill=\"black\" stroke=\"black\" points=\"540.54,-110.3 549.75,-105.08 539.29,-103.42 540.54,-110.3\"/>\n</g>\n<!-- 136597682144848*&#45;&gt;136597682144848 -->\n<g id=\"edge1\" class=\"edge\">\n<title>136597682144848*&#45;&gt;136597682144848</title>\n<path fill=\"none\" stroke=\"black\" d=\"M290.21,-128.5C298.34,-128.5 307.85,-128.5 317.94,-128.5\"/>\n<polygon fill=\"black\" stroke=\"black\" points=\"318.19,-132 328.19,-128.5 318.19,-125 318.19,-132\"/>\n</g>\n<!-- 136597682158160 -->\n<g id=\"node4\" class=\"node\">\n<title>136597682158160</title>\n<polygon fill=\"none\" stroke=\"black\" points=\"326,-55.5 326,-91.5 513,-91.5 513,-55.5 326,-55.5\"/>\n<text text-anchor=\"middle\" x=\"336\" y=\"-69.8\" font-family=\"Times,serif\" font-size=\"14.00\"> </text>\n<polyline fill=\"none\" stroke=\"black\" points=\"346,-55.5 346,-91.5 \"/>\n<text text-anchor=\"middle\" x=\"388.5\" y=\"-69.8\" font-family=\"Times,serif\" font-size=\"14.00\">data &#45;6.0000</text>\n<polyline fill=\"none\" stroke=\"black\" points=\"431,-55.5 431,-91.5 \"/>\n<text text-anchor=\"middle\" x=\"472\" y=\"-69.8\" font-family=\"Times,serif\" font-size=\"14.00\">grad 0.0000</text>\n</g>\n<!-- 136597682158160&#45;&gt;136597682158736+ -->\n<g id=\"edge11\" class=\"edge\">\n<title>136597682158160&#45;&gt;136597682158736+</title>\n<path fill=\"none\" stroke=\"black\" d=\"M513.05,-89.67C522.34,-91.3 531.33,-92.87 539.44,-94.29\"/>\n<polygon fill=\"black\" stroke=\"black\" points=\"539.1,-97.78 549.55,-96.05 540.3,-90.88 539.1,-97.78\"/>\n</g>\n<!-- 136597682158160* -->\n<g id=\"node5\" class=\"node\">\n<title>136597682158160*</title>\n<ellipse fill=\"none\" stroke=\"black\" cx=\"263\" cy=\"-73.5\" rx=\"27\" ry=\"18\"/>\n<text text-anchor=\"middle\" x=\"263\" y=\"-69.8\" font-family=\"Times,serif\" font-size=\"14.00\">*</text>\n</g>\n<!-- 136597682158160*&#45;&gt;136597682158160 -->\n<g id=\"edge2\" class=\"edge\">\n<title>136597682158160*&#45;&gt;136597682158160</title>\n<path fill=\"none\" stroke=\"black\" d=\"M290.21,-73.5C297.73,-73.5 306.43,-73.5 315.67,-73.5\"/>\n<polygon fill=\"black\" stroke=\"black\" points=\"315.89,-77 325.89,-73.5 315.89,-70 315.89,-77\"/>\n</g>\n<!-- 136597682158736 -->\n<g id=\"node6\" class=\"node\">\n<title>136597682158736</title>\n<polygon fill=\"none\" stroke=\"black\" points=\"639,-82.5 639,-118.5 826,-118.5 826,-82.5 639,-82.5\"/>\n<text text-anchor=\"middle\" x=\"649\" y=\"-96.8\" font-family=\"Times,serif\" font-size=\"14.00\"> </text>\n<polyline fill=\"none\" stroke=\"black\" points=\"659,-82.5 659,-118.5 \"/>\n<text text-anchor=\"middle\" x=\"701.5\" y=\"-96.8\" font-family=\"Times,serif\" font-size=\"14.00\">data &#45;6.0000</text>\n<polyline fill=\"none\" stroke=\"black\" points=\"744,-82.5 744,-118.5 \"/>\n<text text-anchor=\"middle\" x=\"785\" y=\"-96.8\" font-family=\"Times,serif\" font-size=\"14.00\">grad 0.0000</text>\n</g>\n<!-- 136597682143888+ -->\n<g id=\"node9\" class=\"node\">\n<title>136597682143888+</title>\n<ellipse fill=\"none\" stroke=\"black\" cx=\"889\" cy=\"-72.5\" rx=\"27\" ry=\"18\"/>\n<text text-anchor=\"middle\" x=\"889\" y=\"-68.8\" font-family=\"Times,serif\" font-size=\"14.00\">+</text>\n</g>\n<!-- 136597682158736&#45;&gt;136597682143888+ -->\n<g id=\"edge6\" class=\"edge\">\n<title>136597682158736&#45;&gt;136597682143888+</title>\n<path fill=\"none\" stroke=\"black\" d=\"M826.05,-83.73C835.54,-82.01 844.71,-80.35 852.95,-78.85\"/>\n<polygon fill=\"black\" stroke=\"black\" points=\"853.64,-82.28 862.85,-77.06 852.39,-75.4 853.64,-82.28\"/>\n</g>\n<!-- 136597682158736+&#45;&gt;136597682158736 -->\n<g id=\"edge3\" class=\"edge\">\n<title>136597682158736+&#45;&gt;136597682158736</title>\n<path fill=\"none\" stroke=\"black\" d=\"M603.21,-100.5C610.73,-100.5 619.43,-100.5 628.67,-100.5\"/>\n<polygon fill=\"black\" stroke=\"black\" points=\"628.89,-104 638.89,-100.5 628.89,-97 628.89,-104\"/>\n</g>\n<!-- 136597682143888 -->\n<g id=\"node8\" class=\"node\">\n<title>136597682143888</title>\n<polygon fill=\"none\" stroke=\"black\" points=\"952,-54.5 952,-90.5 1137,-90.5 1137,-54.5 952,-54.5\"/>\n<text text-anchor=\"middle\" x=\"963.5\" y=\"-68.8\" font-family=\"Times,serif\" font-size=\"14.00\">n</text>\n<polyline fill=\"none\" stroke=\"black\" points=\"975,-54.5 975,-90.5 \"/>\n<text text-anchor=\"middle\" x=\"1015\" y=\"-68.8\" font-family=\"Times,serif\" font-size=\"14.00\">data 0.8814</text>\n<polyline fill=\"none\" stroke=\"black\" points=\"1055,-54.5 1055,-90.5 \"/>\n<text text-anchor=\"middle\" x=\"1096\" y=\"-68.8\" font-family=\"Times,serif\" font-size=\"14.00\">grad 0.0000</text>\n</g>\n<!-- 136597682157328sigmoid -->\n<g id=\"node14\" class=\"node\">\n<title>136597682157328sigmoid</title>\n<ellipse fill=\"none\" stroke=\"black\" cx=\"1212.65\" cy=\"-72.5\" rx=\"39.79\" ry=\"18\"/>\n<text text-anchor=\"middle\" x=\"1212.65\" y=\"-68.8\" font-family=\"Times,serif\" font-size=\"14.00\">sigmoid</text>\n</g>\n<!-- 136597682143888&#45;&gt;136597682157328sigmoid -->\n<g id=\"edge14\" class=\"edge\">\n<title>136597682143888&#45;&gt;136597682157328sigmoid</title>\n<path fill=\"none\" stroke=\"black\" d=\"M1137.32,-72.5C1145.98,-72.5 1154.52,-72.5 1162.54,-72.5\"/>\n<polygon fill=\"black\" stroke=\"black\" points=\"1162.76,-76 1172.76,-72.5 1162.76,-69 1162.76,-76\"/>\n</g>\n<!-- 136597682143888+&#45;&gt;136597682143888 -->\n<g id=\"edge4\" class=\"edge\">\n<title>136597682143888+&#45;&gt;136597682143888</title>\n<path fill=\"none\" stroke=\"black\" d=\"M916.04,-72.5C923.58,-72.5 932.3,-72.5 941.57,-72.5\"/>\n<polygon fill=\"black\" stroke=\"black\" points=\"941.81,-76 951.81,-72.5 941.81,-69 941.81,-76\"/>\n</g>\n<!-- 136597683378832 -->\n<g id=\"node10\" class=\"node\">\n<title>136597683378832</title>\n<polygon fill=\"none\" stroke=\"black\" points=\"4,-110.5 4,-146.5 196,-146.5 196,-110.5 4,-110.5\"/>\n<text text-anchor=\"middle\" x=\"19\" y=\"-124.8\" font-family=\"Times,serif\" font-size=\"14.00\">x2</text>\n<polyline fill=\"none\" stroke=\"black\" points=\"34,-110.5 34,-146.5 \"/>\n<text text-anchor=\"middle\" x=\"74\" y=\"-124.8\" font-family=\"Times,serif\" font-size=\"14.00\">data 0.0000</text>\n<polyline fill=\"none\" stroke=\"black\" points=\"114,-110.5 114,-146.5 \"/>\n<text text-anchor=\"middle\" x=\"155\" y=\"-124.8\" font-family=\"Times,serif\" font-size=\"14.00\">grad 0.0000</text>\n</g>\n<!-- 136597683378832&#45;&gt;136597682144848* -->\n<g id=\"edge7\" class=\"edge\">\n<title>136597683378832&#45;&gt;136597682144848*</title>\n<path fill=\"none\" stroke=\"black\" d=\"M196.05,-128.5C206.52,-128.5 216.65,-128.5 225.71,-128.5\"/>\n<polygon fill=\"black\" stroke=\"black\" points=\"225.79,-132 235.79,-128.5 225.79,-125 225.79,-132\"/>\n</g>\n<!-- 136597683372176 -->\n<g id=\"node11\" class=\"node\">\n<title>136597683372176</title>\n<polygon fill=\"none\" stroke=\"black\" points=\"4,-55.5 4,-91.5 196,-91.5 196,-55.5 4,-55.5\"/>\n<text text-anchor=\"middle\" x=\"19\" y=\"-69.8\" font-family=\"Times,serif\" font-size=\"14.00\">x1</text>\n<polyline fill=\"none\" stroke=\"black\" points=\"34,-55.5 34,-91.5 \"/>\n<text text-anchor=\"middle\" x=\"74\" y=\"-69.8\" font-family=\"Times,serif\" font-size=\"14.00\">data 2.0000</text>\n<polyline fill=\"none\" stroke=\"black\" points=\"114,-55.5 114,-91.5 \"/>\n<text text-anchor=\"middle\" x=\"155\" y=\"-69.8\" font-family=\"Times,serif\" font-size=\"14.00\">grad 0.0000</text>\n</g>\n<!-- 136597683372176&#45;&gt;136597682158160* -->\n<g id=\"edge12\" class=\"edge\">\n<title>136597683372176&#45;&gt;136597682158160*</title>\n<path fill=\"none\" stroke=\"black\" d=\"M196.05,-73.5C206.52,-73.5 216.65,-73.5 225.71,-73.5\"/>\n<polygon fill=\"black\" stroke=\"black\" points=\"225.79,-77 235.79,-73.5 225.79,-70 225.79,-77\"/>\n</g>\n<!-- 136597738759440 -->\n<g id=\"node12\" class=\"node\">\n<title>136597738759440</title>\n<polygon fill=\"none\" stroke=\"black\" points=\"640,-27.5 640,-63.5 825,-63.5 825,-27.5 640,-27.5\"/>\n<text text-anchor=\"middle\" x=\"651.5\" y=\"-41.8\" font-family=\"Times,serif\" font-size=\"14.00\">b</text>\n<polyline fill=\"none\" stroke=\"black\" points=\"663,-27.5 663,-63.5 \"/>\n<text text-anchor=\"middle\" x=\"703\" y=\"-41.8\" font-family=\"Times,serif\" font-size=\"14.00\">data 6.8814</text>\n<polyline fill=\"none\" stroke=\"black\" points=\"743,-27.5 743,-63.5 \"/>\n<text text-anchor=\"middle\" x=\"784\" y=\"-41.8\" font-family=\"Times,serif\" font-size=\"14.00\">grad 0.0000</text>\n</g>\n<!-- 136597738759440&#45;&gt;136597682143888+ -->\n<g id=\"edge8\" class=\"edge\">\n<title>136597738759440&#45;&gt;136597682143888+</title>\n<path fill=\"none\" stroke=\"black\" d=\"M825.16,-61.52C834.84,-63.21 844.22,-64.85 852.64,-66.32\"/>\n<polygon fill=\"black\" stroke=\"black\" points=\"852.29,-69.81 862.75,-68.09 853.5,-62.92 852.29,-69.81\"/>\n</g>\n<!-- 136597682157328 -->\n<g id=\"node13\" class=\"node\">\n<title>136597682157328</title>\n<polygon fill=\"none\" stroke=\"black\" points=\"1288.29,-54.5 1288.29,-90.5 1473.29,-90.5 1473.29,-54.5 1288.29,-54.5\"/>\n<text text-anchor=\"middle\" x=\"1299.79\" y=\"-68.8\" font-family=\"Times,serif\" font-size=\"14.00\">o</text>\n<polyline fill=\"none\" stroke=\"black\" points=\"1311.29,-54.5 1311.29,-90.5 \"/>\n<text text-anchor=\"middle\" x=\"1351.29\" y=\"-68.8\" font-family=\"Times,serif\" font-size=\"14.00\">data 0.7071</text>\n<polyline fill=\"none\" stroke=\"black\" points=\"1391.29,-54.5 1391.29,-90.5 \"/>\n<text text-anchor=\"middle\" x=\"1432.29\" y=\"-68.8\" font-family=\"Times,serif\" font-size=\"14.00\">grad 0.0000</text>\n</g>\n<!-- 136597682157328sigmoid&#45;&gt;136597682157328 -->\n<g id=\"edge5\" class=\"edge\">\n<title>136597682157328sigmoid&#45;&gt;136597682157328</title>\n<path fill=\"none\" stroke=\"black\" d=\"M1252.6,-72.5C1260.48,-72.5 1269.09,-72.5 1278.02,-72.5\"/>\n<polygon fill=\"black\" stroke=\"black\" points=\"1278.2,-76 1288.2,-72.5 1278.2,-69 1278.2,-76\"/>\n</g>\n<!-- 136597683380560 -->\n<g id=\"node15\" class=\"node\">\n<title>136597683380560</title>\n<polygon fill=\"none\" stroke=\"black\" points=\"0,-0.5 0,-36.5 200,-36.5 200,-0.5 0,-0.5\"/>\n<text text-anchor=\"middle\" x=\"16.5\" y=\"-14.8\" font-family=\"Times,serif\" font-size=\"14.00\">w1</text>\n<polyline fill=\"none\" stroke=\"black\" points=\"33,-0.5 33,-36.5 \"/>\n<text text-anchor=\"middle\" x=\"75.5\" y=\"-14.8\" font-family=\"Times,serif\" font-size=\"14.00\">data &#45;3.0000</text>\n<polyline fill=\"none\" stroke=\"black\" points=\"118,-0.5 118,-36.5 \"/>\n<text text-anchor=\"middle\" x=\"159\" y=\"-14.8\" font-family=\"Times,serif\" font-size=\"14.00\">grad 0.0000</text>\n</g>\n<!-- 136597683380560&#45;&gt;136597682158160* -->\n<g id=\"edge9\" class=\"edge\">\n<title>136597683380560&#45;&gt;136597682158160*</title>\n<path fill=\"none\" stroke=\"black\" d=\"M169.28,-36.5C179.65,-39.61 190.16,-42.98 200,-46.5 210.28,-50.17 221.28,-54.74 231.11,-59.07\"/>\n<polygon fill=\"black\" stroke=\"black\" points=\"229.93,-62.37 240.48,-63.27 232.79,-55.99 229.93,-62.37\"/>\n</g>\n</g>\n</svg>\n",
            "text/plain": [
              "<graphviz.graphs.Digraph at 0x7c3c20773010>"
            ]
          },
          "metadata": {},
          "execution_count": 116
        }
      ]
    },
    {
      "cell_type": "code",
      "source": [
        " b.backward()"
      ],
      "metadata": {
        "id": "3ABsSVH4Co2O"
      },
      "execution_count": null,
      "outputs": []
    },
    {
      "cell_type": "code",
      "source": [
        "topo=[]\n",
        "visited=set()\n",
        "def build_topo(v):\n",
        "  if v not in visited:\n",
        "    visited.add(v)\n",
        "    for child in v._prev:\n",
        "      build_topo(child)\n",
        "    topo.append(v)\n",
        "\n",
        "build_topo(o)\n",
        "topo"
      ],
      "metadata": {
        "colab": {
          "base_uri": "https://localhost:8080/"
        },
        "id": "Wz8uS1xhgh7n",
        "outputId": "759f4bd7-1e15-453c-f231-5e114d83f7aa"
      },
      "execution_count": null,
      "outputs": [
        {
          "output_type": "execute_result",
          "data": {
            "text/plain": [
              "[6.881373587019543,\n",
              " 1.0,\n",
              " 0.0,\n",
              " 0.0,\n",
              " 2.0,\n",
              " -3.0,\n",
              " -6.0,\n",
              " -6.0,\n",
              " 0.8813735870195432,\n",
              " 0.7071067811865476]"
            ]
          },
          "metadata": {},
          "execution_count": 118
        }
      ]
    },
    {
      "cell_type": "code",
      "source": [
        "from numpy import random"
      ],
      "metadata": {
        "id": "3IFHaxORTQ2w"
      },
      "execution_count": null,
      "outputs": []
    },
    {
      "cell_type": "code",
      "source": [
        "class Neuron:\n",
        "  def __init__(self, nin):\n",
        "    self.w=[Value(random.uniform(-1,1)) for _ in range(nin)]\n",
        "    self.b=Value(random.uniform(-1,1))\n",
        "\n",
        "  def __call__(self,x):\n",
        "    out=sum((wi*xi for wi,xi in zip(self.w,x)),self.b)\n",
        "    return out.tanh()\n",
        "\n",
        "  def parameter(self):\n",
        "    oit=[self.b]+self.w\n",
        "    return oit\n",
        "\n",
        "\n",
        "class Layer:\n",
        "  def __init__(self,nin,nout):\n",
        "    self.neurons=[Neuron(nin) for _ in range(nout)]\n",
        "\n",
        "  def __call__(self,x):\n",
        "    out=[n(x) for n in self.neurons]\n",
        "    return out[0] if len(out)==1 else out\n",
        "  def parameter(self):\n",
        "    out=[p for neu in self.neurons for p in neu.parameter()]\n",
        "    return out\n",
        "\n",
        "class MLP:\n",
        "  def __init__(self,nin,nout):\n",
        "    totl=[nin]+nout\n",
        "    self.Layer=[Layer(totl[i],totl[i+1]) for i in range(len(nout))]\n",
        "\n",
        "  def __call__(self,x):\n",
        "    for layer in self.Layer:\n",
        "      x=layer(x)\n",
        "    return x\n",
        "\n",
        "  def parameter(self):\n",
        "    out=[p for laye in self.Layer for p in laye.parameter()]\n",
        "    return out\n",
        "\n",
        "\n",
        "\n",
        "\n",
        "\n"
      ],
      "metadata": {
        "id": "4cp-6HhNRGAd"
      },
      "execution_count": null,
      "outputs": []
    },
    {
      "cell_type": "code",
      "source": [
        "n=MLP(3,[4,4,1])"
      ],
      "metadata": {
        "id": "mtFx7jNhwhDq"
      },
      "execution_count": null,
      "outputs": []
    },
    {
      "cell_type": "code",
      "source": [
        "x= [[1,2,3],\n",
        "    [2.3,3,6],\n",
        "    [23,12,4]]"
      ],
      "metadata": {
        "id": "YjxujAE8orkh"
      },
      "execution_count": null,
      "outputs": []
    },
    {
      "cell_type": "code",
      "source": [
        "y= [1,2,3]"
      ],
      "metadata": {
        "id": "b9ToI_eppwhS"
      },
      "execution_count": null,
      "outputs": []
    },
    {
      "cell_type": "code",
      "source": [
        "for k in range(20):\n",
        "  # forwar\n",
        "  y_pred=[n(p) for p in x]\n",
        "\n",
        "  loss=sum([((ypred-p)**2) for ypred,p in zip(y_pred,y)])\n",
        "  for p in n.parameter():\n",
        "    p.grad=0.0\n",
        "  loss.backward()\n",
        "\n",
        "  for p in n.parameter():\n",
        "    p.data+=-0.1*p.grad\n",
        "\n",
        "  print(k,loss)\n"
      ],
      "metadata": {
        "colab": {
          "base_uri": "https://localhost:8080/"
        },
        "id": "UkZSm2BbahPV",
        "outputId": "c6476fee-a51f-415b-a6fd-61d6a473eec9"
      },
      "execution_count": null,
      "outputs": [
        {
          "output_type": "stream",
          "name": "stdout",
          "text": [
            "0 5.003959873795722\n",
            "1 5.00393158560527\n",
            "2 5.003903693039\n",
            "3 5.003876187902728\n",
            "4 5.003849062226366\n",
            "5 5.003822308256325\n",
            "6 5.003795918448219\n",
            "7 5.0037698854598816\n",
            "8 5.003744202144626\n",
            "9 5.003718861544806\n",
            "10 5.003693856885609\n",
            "11 5.003669181569099\n",
            "12 5.003644829168495\n",
            "13 5.003620793422657\n",
            "14 5.003597068230805\n",
            "15 5.003573647647406\n",
            "16 5.003550525877299\n",
            "17 5.003527697270953\n",
            "18 5.003505156319948\n",
            "19 5.003482897652597\n"
          ]
        }
      ]
    },
    {
      "cell_type": "code",
      "source": [
        "for p in n.parameter():\n",
        "  p.data+=-0.001*p.grad"
      ],
      "metadata": {
        "id": "LJjN-sCk0zR_"
      },
      "execution_count": null,
      "outputs": []
    }
  ]
}